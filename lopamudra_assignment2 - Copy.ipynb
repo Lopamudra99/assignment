{
 "cells": [
  {
   "cell_type": "markdown",
   "id": "cdf488a5",
   "metadata": {},
   "source": [
    "### Strings and Character Data in Python\n",
    "\n",
    "String are objects that contain sequences of character data. Processing character data is integral to programming. Python provides a rich set of operators, functions, and methods for working with strings. In this module, we'll discuss the below topics.\n",
    "\n",
    "1. Using operators with strings\n",
    "2. Accessing and extracting portions of strings\n",
    "3. Use built-in Python functions with characters and strings\n",
    "4. Use methods to manipulate and modify string data\n",
    "\n",
    "#### String Manipulation\n",
    "1. String Operators\n",
    "2. Built-In String Functions\n",
    "    * Case Conversion (upper, lower, title, capitalize)\n",
    "    * Find and Replace (find, index) \n",
    "    * dir and __doc__\n",
    "3. String Indexing & Slicing\n",
    "    * name[1]\n",
    "\n",
    "### Working with python list\n",
    "List is Python’s most versatile, useful data types. You’ll find list in virtually every Python program. we'll cover the important characteristics of lists and we’ll learn how to define them and how to manipulate them.\n",
    "\n",
    "1. Lists Overview\n",
    "2. Indexing and Slicing\n",
    "3. Nesting\n",
    "4. List Methods\n",
    "    * Inserting item to a given position\n",
    "    * Appending value to a list\n",
    "    * Removing elements from a list\n",
    "    * Extending a list and merging with other list\n",
    "    * Counting instances of an elements in a list\n",
    "    * index - Finding index of something in the list\n",
    "    * Sorting a list\n",
    "    * Reversing a list\n",
    "    \n",
    "### Working with dictionary in python\n",
    "We’ll cover the basic characteristics of Python dictionaries and learn how to access and manage dictionary data. O\n",
    "1. Dictionaries and lists share the following characteristics:\n",
    "    * Both are mutable.\n",
    "    * Both are dynamic. They can grow and shrink as needed.\n",
    "    * Both can be nested. A list can contain another list. A dictionary can contain another dictionary. A dictionary can also contain a list, and vice versa.\n",
    "\n",
    "4. Dictionary Methods\n",
    "    * Get all keys from a dictionary - keys\n",
    "    * Get all values from a dictionary - values\n",
    "    * To Access data from a dictionary for a key - get\n",
    "    * Update a dictionary - update\n",
    "    * Deleting data from the dictionary\n",
    "    * Deleting all the key values from a dictionary - clear\n",
    "    \n",
    "### Conditional Statements in Python (if/elif/else)\n",
    "We’ll learn how to work with conditional (“if”) statements in Python. if-statements help us implement complex decision making in your programs.\n",
    "\n",
    "1. \"if\", \"else\" and \"elif\" Clauses\n",
    "2. One-Line \"if\" Statements\n",
    "3. Conditional Expressions\n",
    "4. The \"pass\" Statement"
   ]
  },
  {
   "cell_type": "code",
   "execution_count": 72,
   "id": "1226db47",
   "metadata": {},
   "outputs": [],
   "source": [
    "name = \"Naveen\""
   ]
  },
  {
   "cell_type": "code",
   "execution_count": 86,
   "id": "d610f5fe",
   "metadata": {},
   "outputs": [],
   "source": [
    "list1 = [1,2,3]"
   ]
  },
  {
   "cell_type": "code",
   "execution_count": 88,
   "id": "ea96b4df",
   "metadata": {},
   "outputs": [
    {
     "data": {
      "text/plain": [
       "[1, 2, 3]"
      ]
     },
     "execution_count": 88,
     "metadata": {},
     "output_type": "execute_result"
    }
   ],
   "source": [
    "list1"
   ]
  },
  {
   "cell_type": "code",
   "execution_count": 89,
   "id": "d29364d6",
   "metadata": {},
   "outputs": [],
   "source": [
    "list1.append(4)"
   ]
  },
  {
   "cell_type": "code",
   "execution_count": 91,
   "id": "93b0d733",
   "metadata": {},
   "outputs": [],
   "source": [
    "list2 = [4,5,6]"
   ]
  },
  {
   "cell_type": "code",
   "execution_count": 92,
   "id": "0395f205",
   "metadata": {},
   "outputs": [],
   "source": [
    "list1.extend(list2)"
   ]
  },
  {
   "cell_type": "code",
   "execution_count": 93,
   "id": "fa9d3f3e",
   "metadata": {},
   "outputs": [
    {
     "data": {
      "text/plain": [
       "[1, 2, 3, 4, 4, 5, 6]"
      ]
     },
     "execution_count": 93,
     "metadata": {},
     "output_type": "execute_result"
    }
   ],
   "source": [
    "list1"
   ]
  },
  {
   "cell_type": "code",
   "execution_count": 94,
   "id": "7a52d021",
   "metadata": {},
   "outputs": [],
   "source": [
    "dict_1 = {\"name\": \"Naveen\", \"city\": \"Delhi\"}"
   ]
  },
  {
   "cell_type": "code",
   "execution_count": 95,
   "id": "7e650f17",
   "metadata": {},
   "outputs": [
    {
     "data": {
      "text/plain": [
       "dict"
      ]
     },
     "execution_count": 95,
     "metadata": {},
     "output_type": "execute_result"
    }
   ],
   "source": [
    "type(dict_1)"
   ]
  },
  {
   "cell_type": "code",
   "execution_count": 96,
   "id": "7c0b7bf9",
   "metadata": {},
   "outputs": [
    {
     "data": {
      "text/plain": [
       "['__class__',\n",
       " '__class_getitem__',\n",
       " '__contains__',\n",
       " '__delattr__',\n",
       " '__delitem__',\n",
       " '__dir__',\n",
       " '__doc__',\n",
       " '__eq__',\n",
       " '__format__',\n",
       " '__ge__',\n",
       " '__getattribute__',\n",
       " '__getitem__',\n",
       " '__gt__',\n",
       " '__hash__',\n",
       " '__init__',\n",
       " '__init_subclass__',\n",
       " '__ior__',\n",
       " '__iter__',\n",
       " '__le__',\n",
       " '__len__',\n",
       " '__lt__',\n",
       " '__ne__',\n",
       " '__new__',\n",
       " '__or__',\n",
       " '__reduce__',\n",
       " '__reduce_ex__',\n",
       " '__repr__',\n",
       " '__reversed__',\n",
       " '__ror__',\n",
       " '__setattr__',\n",
       " '__setitem__',\n",
       " '__sizeof__',\n",
       " '__str__',\n",
       " '__subclasshook__',\n",
       " 'clear',\n",
       " 'copy',\n",
       " 'fromkeys',\n",
       " 'get',\n",
       " 'items',\n",
       " 'keys',\n",
       " 'pop',\n",
       " 'popitem',\n",
       " 'setdefault',\n",
       " 'update',\n",
       " 'values']"
      ]
     },
     "execution_count": 96,
     "metadata": {},
     "output_type": "execute_result"
    }
   ],
   "source": [
    "dir(dict_1)"
   ]
  },
  {
   "cell_type": "code",
   "execution_count": 97,
   "id": "40a7c56d",
   "metadata": {},
   "outputs": [
    {
     "data": {
      "text/plain": [
       "'Naveen'"
      ]
     },
     "execution_count": 97,
     "metadata": {},
     "output_type": "execute_result"
    }
   ],
   "source": [
    "dict_1.get(\"name\")"
   ]
  },
  {
   "cell_type": "code",
   "execution_count": 98,
   "id": "1c6a3dcf",
   "metadata": {},
   "outputs": [
    {
     "name": "stdout",
     "output_type": "stream",
     "text": [
      "{'name': 'Naveen', 'city': 'Delhi'}\n"
     ]
    }
   ],
   "source": [
    "print(dict_1)"
   ]
  },
  {
   "cell_type": "code",
   "execution_count": 99,
   "id": "88d524b1",
   "metadata": {},
   "outputs": [],
   "source": [
    "dict_1.update({\"city\": \"Noida\"})"
   ]
  },
  {
   "cell_type": "code",
   "execution_count": 100,
   "id": "4033930c",
   "metadata": {},
   "outputs": [
    {
     "name": "stdout",
     "output_type": "stream",
     "text": [
      "{'name': 'Naveen', 'city': 'Noida'}\n"
     ]
    }
   ],
   "source": [
    "print(dict_1)"
   ]
  },
  {
   "cell_type": "code",
   "execution_count": 101,
   "id": "23e9b629",
   "metadata": {},
   "outputs": [],
   "source": [
    "del dict_1['name']"
   ]
  },
  {
   "cell_type": "code",
   "execution_count": 102,
   "id": "02278e47",
   "metadata": {},
   "outputs": [
    {
     "name": "stdout",
     "output_type": "stream",
     "text": [
      "{'city': 'Noida'}\n"
     ]
    }
   ],
   "source": [
    "print(dict_1)"
   ]
  },
  {
   "cell_type": "code",
   "execution_count": null,
   "id": "e47ad77e",
   "metadata": {},
   "outputs": [],
   "source": [
    "todo_list = [\n",
    "    \"complete python study\", \n",
    "    \"complete python test\",\n",
    "    \"get the certificate\"\n",
    "]"
   ]
  },
  {
   "cell_type": "code",
   "execution_count": 106,
   "id": "b7e68570",
   "metadata": {},
   "outputs": [],
   "source": [
    "todo_list = [\n",
    "    {\"task\": \"complete python study\", \"deadline\": \"2022-10-10\"},\n",
    "    {\"task\":\"complete python test\", \"deadline\": \"2022-10-10\"},\n",
    "    {\"task\":\"get the certificate\", \"deadline\": \"2022-10-10\"}\n",
    "]"
   ]
  },
  {
   "cell_type": "code",
   "execution_count": 107,
   "id": "c171274a",
   "metadata": {},
   "outputs": [
    {
     "name": "stdout",
     "output_type": "stream",
     "text": [
      "[{'task': 'complete python study', 'deadline': '2022-10-10'}, {'task': 'complete python test', 'deadline': '2022-10-10'}, {'task': 'get the certificate', 'deadline': '2022-10-10'}]\n"
     ]
    }
   ],
   "source": [
    "print(todo_list)"
   ]
  },
  {
   "cell_type": "code",
   "execution_count": 108,
   "id": "6c0bcd2f",
   "metadata": {},
   "outputs": [],
   "source": [
    "user = {\n",
    "    \"name\": \"Naveen\",\n",
    "    \"courses\": [\"python\", \"javascript\"]\n",
    "}"
   ]
  },
  {
   "cell_type": "code",
   "execution_count": 109,
   "id": "9d8bc290",
   "metadata": {},
   "outputs": [
    {
     "name": "stdout",
     "output_type": "stream",
     "text": [
      "{'name': 'Naveen', 'courses': ['python', 'javascript']}\n"
     ]
    }
   ],
   "source": [
    "print(user)"
   ]
  },
  {
   "cell_type": "code",
   "execution_count": 110,
   "id": "69c27f8a",
   "metadata": {},
   "outputs": [
    {
     "data": {
      "text/plain": [
       "dict_keys(['name', 'courses'])"
      ]
     },
     "execution_count": 110,
     "metadata": {},
     "output_type": "execute_result"
    }
   ],
   "source": [
    "user.keys()"
   ]
  },
  {
   "cell_type": "code",
   "execution_count": 111,
   "id": "31c91831",
   "metadata": {},
   "outputs": [
    {
     "data": {
      "text/plain": [
       "dict_values(['Naveen', ['python', 'javascript']])"
      ]
     },
     "execution_count": 111,
     "metadata": {},
     "output_type": "execute_result"
    }
   ],
   "source": [
    "user.values()"
   ]
  },
  {
   "cell_type": "code",
   "execution_count": 112,
   "id": "ecb376ce",
   "metadata": {},
   "outputs": [],
   "source": [
    "def hello():\n",
    "    \"\"\"\n",
    "    this function will print hello world\n",
    "    \"\"\"\n",
    "    return \"hello world\"\n",
    "\n",
    "\n",
    "function_list = [hello]"
   ]
  },
  {
   "cell_type": "code",
   "execution_count": 113,
   "id": "0c0069b7",
   "metadata": {},
   "outputs": [
    {
     "data": {
      "text/plain": [
       "[<function __main__.hello()>]"
      ]
     },
     "execution_count": 113,
     "metadata": {},
     "output_type": "execute_result"
    }
   ],
   "source": [
    "function_list"
   ]
  },
  {
   "cell_type": "code",
   "execution_count": 115,
   "id": "afff4f6d",
   "metadata": {},
   "outputs": [],
   "source": [
    "func_dict = {\n",
    "    \"function_name\": \"hello world\",\n",
    "    \"function\": hello\n",
    "}"
   ]
  },
  {
   "cell_type": "code",
   "execution_count": null,
   "id": "95f45f6b",
   "metadata": {},
   "outputs": [],
   "source": []
  },
  {
   "cell_type": "code",
   "execution_count": 125,
   "id": "6f57093f",
   "metadata": {},
   "outputs": [],
   "source": [
    "num1 = 10\n",
    "num2 = 20"
   ]
  },
  {
   "cell_type": "code",
   "execution_count": 130,
   "id": "4aa180fa",
   "metadata": {},
   "outputs": [
    {
     "name": "stdout",
     "output_type": "stream",
     "text": [
      "Not same\n"
     ]
    }
   ],
   "source": [
    "if num1 == num2:\n",
    "    print(\"Same\")\n",
    "    print(\"something else\")\n",
    "else:\n",
    "    print(\"Not same\")"
   ]
  },
  {
   "cell_type": "code",
   "execution_count": 131,
   "id": "a259f3d3",
   "metadata": {},
   "outputs": [],
   "source": [
    "res = \"Same\" if num1 == num2 else \"Not same\""
   ]
  },
  {
   "cell_type": "code",
   "execution_count": 129,
   "id": "837cd484",
   "metadata": {},
   "outputs": [
    {
     "name": "stdout",
     "output_type": "stream",
     "text": [
      "Not same\n"
     ]
    }
   ],
   "source": [
    "print(res)"
   ]
  },
  {
   "cell_type": "code",
   "execution_count": 134,
   "id": "00918647",
   "metadata": {},
   "outputs": [],
   "source": [
    "result = num1 >= num2"
   ]
  },
  {
   "cell_type": "code",
   "execution_count": 139,
   "id": "5f73b3c5",
   "metadata": {},
   "outputs": [],
   "source": [
    "name = \"naveen\""
   ]
  },
  {
   "cell_type": "code",
   "execution_count": 141,
   "id": "4efe69b0",
   "metadata": {},
   "outputs": [
    {
     "data": {
      "text/plain": [
       "'Return a capitalized version of the string.\\n\\nMore specifically, make the first character have upper case and the rest lower\\ncase.'"
      ]
     },
     "execution_count": 141,
     "metadata": {},
     "output_type": "execute_result"
    }
   ],
   "source": []
  },
  {
   "cell_type": "code",
   "execution_count": null,
   "id": "70c2b3bd",
   "metadata": {},
   "outputs": [],
   "source": []
  },
  {
   "cell_type": "code",
   "execution_count": null,
   "id": "6c2233c4",
   "metadata": {},
   "outputs": [],
   "source": []
  },
  {
   "cell_type": "markdown",
   "id": "6d25fc4c",
   "metadata": {},
   "source": [
    "**Q: Create a variable name assign your name to that variable**\n",
    "</br>\n",
    "**Check what is the type of the variable and what are the public method available on that variable**\n",
    "</br>\n",
    "**Practice all the methods and write a brief summary on each of them in your words**"
   ]
  },
  {
   "cell_type": "code",
   "execution_count": null,
   "id": "2f76e00d",
   "metadata": {},
   "outputs": [],
   "source": [
    "name = \"naveen\""
   ]
  },
  {
   "cell_type": "code",
   "execution_count": 142,
   "id": "42279bda",
   "metadata": {},
   "outputs": [
    {
     "data": {
      "text/plain": [
       "['__add__',\n",
       " '__class__',\n",
       " '__contains__',\n",
       " '__delattr__',\n",
       " '__dir__',\n",
       " '__doc__',\n",
       " '__eq__',\n",
       " '__format__',\n",
       " '__ge__',\n",
       " '__getattribute__',\n",
       " '__getitem__',\n",
       " '__getnewargs__',\n",
       " '__gt__',\n",
       " '__hash__',\n",
       " '__init__',\n",
       " '__init_subclass__',\n",
       " '__iter__',\n",
       " '__le__',\n",
       " '__len__',\n",
       " '__lt__',\n",
       " '__mod__',\n",
       " '__mul__',\n",
       " '__ne__',\n",
       " '__new__',\n",
       " '__reduce__',\n",
       " '__reduce_ex__',\n",
       " '__repr__',\n",
       " '__rmod__',\n",
       " '__rmul__',\n",
       " '__setattr__',\n",
       " '__sizeof__',\n",
       " '__str__',\n",
       " '__subclasshook__',\n",
       " 'capitalize',\n",
       " 'casefold',\n",
       " 'center',\n",
       " 'count',\n",
       " 'encode',\n",
       " 'endswith',\n",
       " 'expandtabs',\n",
       " 'find',\n",
       " 'format',\n",
       " 'format_map',\n",
       " 'index',\n",
       " 'isalnum',\n",
       " 'isalpha',\n",
       " 'isascii',\n",
       " 'isdecimal',\n",
       " 'isdigit',\n",
       " 'isidentifier',\n",
       " 'islower',\n",
       " 'isnumeric',\n",
       " 'isprintable',\n",
       " 'isspace',\n",
       " 'istitle',\n",
       " 'isupper',\n",
       " 'join',\n",
       " 'ljust',\n",
       " 'lower',\n",
       " 'lstrip',\n",
       " 'maketrans',\n",
       " 'partition',\n",
       " 'removeprefix',\n",
       " 'removesuffix',\n",
       " 'replace',\n",
       " 'rfind',\n",
       " 'rindex',\n",
       " 'rjust',\n",
       " 'rpartition',\n",
       " 'rsplit',\n",
       " 'rstrip',\n",
       " 'split',\n",
       " 'splitlines',\n",
       " 'startswith',\n",
       " 'strip',\n",
       " 'swapcase',\n",
       " 'title',\n",
       " 'translate',\n",
       " 'upper',\n",
       " 'zfill']"
      ]
     },
     "execution_count": 142,
     "metadata": {},
     "output_type": "execute_result"
    }
   ],
   "source": [
    "dir(name)"
   ]
  },
  {
   "cell_type": "code",
   "execution_count": 143,
   "id": "d4c93fd9",
   "metadata": {},
   "outputs": [
    {
     "data": {
      "text/plain": [
       "'Naveen'"
      ]
     },
     "execution_count": 143,
     "metadata": {},
     "output_type": "execute_result"
    }
   ],
   "source": [
    "\"\"\"\n",
    "To make the 1st char of the string in Upper case\n",
    "\"\"\"\n",
    "name.capitalize()"
   ]
  },
  {
   "cell_type": "code",
   "execution_count": 75,
   "id": "5dc97b49",
   "metadata": {},
   "outputs": [
    {
     "name": "stdout",
     "output_type": "stream",
     "text": [
      "naveen\n"
     ]
    }
   ],
   "source": [
    "name=\"naveen\"\n",
    "x = name.casefold()\n",
    "\n",
    "print(x)\n"
   ]
  },
  {
   "cell_type": "code",
   "execution_count": 77,
   "id": "230b1eef",
   "metadata": {},
   "outputs": [
    {
     "name": "stdout",
     "output_type": "stream",
     "text": [
      "       naveen       \n"
     ]
    }
   ],
   "source": [
    "name=\"naveen\"\n",
    "x = name.center(20)\n",
    "\n",
    "print(x)\n"
   ]
  },
  {
   "cell_type": "code",
   "execution_count": 79,
   "id": "44629ead",
   "metadata": {},
   "outputs": [
    {
     "name": "stdout",
     "output_type": "stream",
     "text": [
      "1\n"
     ]
    }
   ],
   "source": [
    "name=\"my name is lopamudra\"\n",
    "x = name.count(name)\n",
    "\n",
    "print(x)\n"
   ]
  },
  {
   "cell_type": "code",
   "execution_count": 80,
   "id": "615c66f8",
   "metadata": {},
   "outputs": [
    {
     "name": "stdout",
     "output_type": "stream",
     "text": [
      "b'naveen'\n"
     ]
    }
   ],
   "source": [
    "name=\"naveen\"\n",
    "x = name.encode()\n",
    "\n",
    "print(x)\n"
   ]
  },
  {
   "cell_type": "code",
   "execution_count": 81,
   "id": "c8c59a08",
   "metadata": {},
   "outputs": [
    {
     "name": "stdout",
     "output_type": "stream",
     "text": [
      "True\n"
     ]
    }
   ],
   "source": [
    "name=\"naveen\"\n",
    "x = name.endswith(\"n\")\n",
    "\n",
    "print(x)\n"
   ]
  },
  {
   "cell_type": "code",
   "execution_count": 83,
   "id": "67418800",
   "metadata": {},
   "outputs": [
    {
     "name": "stdout",
     "output_type": "stream",
     "text": [
      "n a v e e n\n"
     ]
    }
   ],
   "source": [
    "name=\"n\\ta\\tv\\te\\te\\tn\"\n",
    "x = name.expandtabs(2)\n",
    "\n",
    "print(x)\n"
   ]
  },
  {
   "cell_type": "code",
   "execution_count": 86,
   "id": "58625fcc",
   "metadata": {},
   "outputs": [
    {
     "name": "stdout",
     "output_type": "stream",
     "text": [
      "3\n"
     ]
    }
   ],
   "source": [
    "name=\"my name is lopa\"\n",
    "x = name.find(\"name\")\n",
    "\n",
    "print(x)\n"
   ]
  },
  {
   "cell_type": "code",
   "execution_count": 88,
   "id": "945329ea",
   "metadata": {},
   "outputs": [
    {
     "name": "stdout",
     "output_type": "stream",
     "text": [
      "0\n"
     ]
    }
   ],
   "source": [
    "name=\"naveen\"\n",
    "x = name.index(\"naveen\")\n",
    "\n",
    "print(x)\n"
   ]
  },
  {
   "cell_type": "code",
   "execution_count": 90,
   "id": "6a1756bd",
   "metadata": {},
   "outputs": [
    {
     "name": "stdout",
     "output_type": "stream",
     "text": [
      "True\n"
     ]
    }
   ],
   "source": [
    "name=\"naveen\"\n",
    "x = name.isalnum()\n",
    "\n",
    "print(x)\n"
   ]
  },
  {
   "cell_type": "code",
   "execution_count": 91,
   "id": "04a35e0c",
   "metadata": {},
   "outputs": [
    {
     "name": "stdout",
     "output_type": "stream",
     "text": [
      "True\n"
     ]
    }
   ],
   "source": [
    "name=\"naveen\"\n",
    "x = name.isalpha()\n",
    "\n",
    "print(x)\n"
   ]
  },
  {
   "cell_type": "code",
   "execution_count": 93,
   "id": "ae2aff54",
   "metadata": {},
   "outputs": [
    {
     "name": "stdout",
     "output_type": "stream",
     "text": [
      "True\n"
     ]
    }
   ],
   "source": [
    "name=\"naveen\"\n",
    "x = name.isascii()\n",
    "\n",
    "print(x)\n"
   ]
  },
  {
   "cell_type": "code",
   "execution_count": 94,
   "id": "a0e2f3d1",
   "metadata": {},
   "outputs": [
    {
     "name": "stdout",
     "output_type": "stream",
     "text": [
      "False\n"
     ]
    }
   ],
   "source": [
    "name=\"naveen\"\n",
    "x = name.isdecimal()\n",
    "\n",
    "print(x)\n"
   ]
  },
  {
   "cell_type": "code",
   "execution_count": 95,
   "id": "804e7c55",
   "metadata": {},
   "outputs": [
    {
     "name": "stdout",
     "output_type": "stream",
     "text": [
      "False\n"
     ]
    }
   ],
   "source": [
    "name=\"naveen\"\n",
    "x = name.isdigit()\n",
    "\n",
    "print(x)\n"
   ]
  },
  {
   "cell_type": "code",
   "execution_count": 96,
   "id": "90a79147",
   "metadata": {},
   "outputs": [
    {
     "name": "stdout",
     "output_type": "stream",
     "text": [
      "True\n"
     ]
    }
   ],
   "source": [
    "name=\"naveen\"\n",
    "x = name.isidentifier()\n",
    "\n",
    "print(x)\n"
   ]
  },
  {
   "cell_type": "code",
   "execution_count": 97,
   "id": "b8b80145",
   "metadata": {},
   "outputs": [
    {
     "name": "stdout",
     "output_type": "stream",
     "text": [
      "True\n"
     ]
    }
   ],
   "source": [
    "name=\"naveen\"\n",
    "x = name.islower()\n",
    "\n",
    "print(x)\n"
   ]
  },
  {
   "cell_type": "code",
   "execution_count": 98,
   "id": "7a6f61a3",
   "metadata": {},
   "outputs": [
    {
     "name": "stdout",
     "output_type": "stream",
     "text": [
      "False\n"
     ]
    }
   ],
   "source": [
    "name=\"naveen\"\n",
    "x = name.isnumeric()\n",
    "\n",
    "print(x)\n"
   ]
  },
  {
   "cell_type": "code",
   "execution_count": 99,
   "id": "cb679f21",
   "metadata": {},
   "outputs": [
    {
     "name": "stdout",
     "output_type": "stream",
     "text": [
      "True\n"
     ]
    }
   ],
   "source": [
    "name=\"naveen\"\n",
    "x = name.isprintable()\n",
    "\n",
    "print(x)\n"
   ]
  },
  {
   "cell_type": "code",
   "execution_count": 100,
   "id": "7e452328",
   "metadata": {},
   "outputs": [
    {
     "name": "stdout",
     "output_type": "stream",
     "text": [
      "False\n"
     ]
    }
   ],
   "source": [
    "name=\"naveen\"\n",
    "x = name.isspace()\n",
    "\n",
    "print(x)\n"
   ]
  },
  {
   "cell_type": "code",
   "execution_count": 101,
   "id": "17845ace",
   "metadata": {},
   "outputs": [
    {
     "name": "stdout",
     "output_type": "stream",
     "text": [
      "False\n"
     ]
    }
   ],
   "source": [
    "name=\"naveen\"\n",
    "x = name.istitle()\n",
    "\n",
    "print(x)\n"
   ]
  },
  {
   "cell_type": "code",
   "execution_count": 102,
   "id": "3313aea7",
   "metadata": {},
   "outputs": [
    {
     "name": "stdout",
     "output_type": "stream",
     "text": [
      "False\n"
     ]
    }
   ],
   "source": [
    "name=\"naveen\"\n",
    "x = name.isupper()\n",
    "\n",
    "print(x)\n"
   ]
  },
  {
   "cell_type": "code",
   "execution_count": 105,
   "id": "6415f943",
   "metadata": {},
   "outputs": [
    {
     "name": "stdout",
     "output_type": "stream",
     "text": [
      "naveen#lopa\n"
     ]
    }
   ],
   "source": [
    "name=(\"naveen\",\"lopa\")\n",
    "x = \"#\".join (name)\n",
    "\n",
    "print(x)\n"
   ]
  },
  {
   "cell_type": "markdown",
   "id": "8055df42",
   "metadata": {},
   "source": [
    "**Q: Create a list \"todo_list\" and add some todo items in the list**\n",
    "</br>\n",
    "**Check what is the type of the variable and what are the public method available on that variable**\n",
    "</br>\n",
    "**Practice all the methods and write a brief summary on each of them in your words**"
   ]
  },
  {
   "cell_type": "code",
   "execution_count": 7,
   "id": "a23d9047",
   "metadata": {},
   "outputs": [
    {
     "name": "stdout",
     "output_type": "stream",
     "text": [
      "['complete python study', 'complete python test', 'get the certificate']\n"
     ]
    }
   ],
   "source": [
    "todo_list = [\n",
    "    \"complete python study\", \n",
    "    \"complete python test\",\n",
    "    \"get the certificate\"\n",
    "]\n",
    "print(todo_list)"
   ]
  },
  {
   "cell_type": "code",
   "execution_count": 8,
   "id": "7f7d1fbd",
   "metadata": {},
   "outputs": [
    {
     "data": {
      "text/plain": [
       "['__add__',\n",
       " '__class__',\n",
       " '__class_getitem__',\n",
       " '__contains__',\n",
       " '__delattr__',\n",
       " '__delitem__',\n",
       " '__dir__',\n",
       " '__doc__',\n",
       " '__eq__',\n",
       " '__format__',\n",
       " '__ge__',\n",
       " '__getattribute__',\n",
       " '__getitem__',\n",
       " '__gt__',\n",
       " '__hash__',\n",
       " '__iadd__',\n",
       " '__imul__',\n",
       " '__init__',\n",
       " '__init_subclass__',\n",
       " '__iter__',\n",
       " '__le__',\n",
       " '__len__',\n",
       " '__lt__',\n",
       " '__mul__',\n",
       " '__ne__',\n",
       " '__new__',\n",
       " '__reduce__',\n",
       " '__reduce_ex__',\n",
       " '__repr__',\n",
       " '__reversed__',\n",
       " '__rmul__',\n",
       " '__setattr__',\n",
       " '__setitem__',\n",
       " '__sizeof__',\n",
       " '__str__',\n",
       " '__subclasshook__',\n",
       " 'append',\n",
       " 'clear',\n",
       " 'copy',\n",
       " 'count',\n",
       " 'extend',\n",
       " 'index',\n",
       " 'insert',\n",
       " 'pop',\n",
       " 'remove',\n",
       " 'reverse',\n",
       " 'sort']"
      ]
     },
     "execution_count": 8,
     "metadata": {},
     "output_type": "execute_result"
    }
   ],
   "source": [
    "dir(todo_list)"
   ]
  },
  {
   "cell_type": "code",
   "execution_count": 26,
   "id": "edc05992",
   "metadata": {},
   "outputs": [
    {
     "name": "stdout",
     "output_type": "stream",
     "text": [
      "['complete python study', 'complete python test', 'get the certificate', 'doubt clear']\n"
     ]
    }
   ],
   "source": [
    "todo_list= [\"complete python study\", \n",
    "    \"complete python test\",\n",
    "    \"get the certificate\"]\n",
    "todo_list.append(\"doubt clear\")\n",
    "print(todo_list)"
   ]
  },
  {
   "cell_type": "code",
   "execution_count": 27,
   "id": "7c18bcea",
   "metadata": {},
   "outputs": [
    {
     "name": "stdout",
     "output_type": "stream",
     "text": [
      "[]\n"
     ]
    }
   ],
   "source": [
    "todo_list= [\"complete python study\", \n",
    "    \"complete python test\",\n",
    "    \"get the certificate\"]\n",
    "todo_list.clear()\n",
    "print(todo_list)"
   ]
  },
  {
   "cell_type": "code",
   "execution_count": 29,
   "id": "de0ac727",
   "metadata": {},
   "outputs": [
    {
     "name": "stdout",
     "output_type": "stream",
     "text": [
      "['complete python study', 'complete python test', 'get the certificate']\n"
     ]
    }
   ],
   "source": [
    "todo_list= [\"complete python study\", \n",
    "    \"complete python test\",\n",
    "    \"get the certificate\"]\n",
    "todo_list_copy=todo_list.copy()\n",
    "print(todo_list_copy)"
   ]
  },
  {
   "cell_type": "code",
   "execution_count": 31,
   "id": "5a271eef",
   "metadata": {},
   "outputs": [
    {
     "name": "stdout",
     "output_type": "stream",
     "text": [
      "1\n"
     ]
    }
   ],
   "source": [
    "todo_list= [\"complete python study\", \n",
    "    \"complete python test\",\n",
    "    \"get the certificate\"]\n",
    "todo_list_count=todo_list.count(\"complete python study\")\n",
    "print(todo_list_count)"
   ]
  },
  {
   "cell_type": "code",
   "execution_count": 32,
   "id": "7837af94",
   "metadata": {},
   "outputs": [
    {
     "name": "stdout",
     "output_type": "stream",
     "text": [
      "['complete corejava study', 'complete corejava test', 'get the certificate', 'complete python study', 'complete python test', 'get the certificate']\n"
     ]
    }
   ],
   "source": [
    "todo_list= [\"complete python study\", \n",
    "    \"complete python test\",\n",
    "    \"get the certificate\"]\n",
    "todo_list1= [\"complete corejava study\", \n",
    "    \"complete corejava test\",\n",
    "    \"get the certificate\"]\n",
    "todo_list1.extend(todo_list)\n",
    "print(todo_list1)"
   ]
  },
  {
   "cell_type": "code",
   "execution_count": 33,
   "id": "ae70a505",
   "metadata": {},
   "outputs": [
    {
     "name": "stdout",
     "output_type": "stream",
     "text": [
      "2\n"
     ]
    }
   ],
   "source": [
    "todo_list= [\"complete python study\", \n",
    "    \"complete python test\",\n",
    "    \"get the certificate\"]\n",
    "index=todo_list.index(\"get the certificate\")\n",
    "print(index)"
   ]
  },
  {
   "cell_type": "code",
   "execution_count": 35,
   "id": "9d9bb866",
   "metadata": {},
   "outputs": [
    {
     "name": "stdout",
     "output_type": "stream",
     "text": [
      "['complete python study', 'doubt clear', 'complete python test', 'get the certificate']\n"
     ]
    }
   ],
   "source": [
    "todo_list= [\"complete python study\", \n",
    "    \"complete python test\",\n",
    "    \"get the certificate\"]\n",
    "todo_list.insert(1,\"doubt clear\")\n",
    "print(todo_list)"
   ]
  },
  {
   "cell_type": "markdown",
   "id": "67fd8a5e",
   "metadata": {},
   "source": [
    "**Q: Create a dictionary \"user\" and add name, city key value pair in the dictionary**\n",
    "</br>\n",
    "**Check what is the type of the variable  user and what are the public method available on that variable**\n",
    "</br>\n",
    "**Practice all the methods and write a brief summary on each of them in your words**"
   ]
  },
  {
   "cell_type": "code",
   "execution_count": 53,
   "id": "e2a90b37",
   "metadata": {},
   "outputs": [
    {
     "name": "stdout",
     "output_type": "stream",
     "text": [
      "{'name': 'lopa', 'city': 'Bhubaneswar'}\n"
     ]
    }
   ],
   "source": [
    " user = {\n",
    "  \"name\": \"lopa\",\n",
    "  \"city\": \"Bhubaneswar\"\n",
    "}\n",
    "print(user)\n"
   ]
  },
  {
   "cell_type": "code",
   "execution_count": 54,
   "id": "5f9b02e8",
   "metadata": {},
   "outputs": [
    {
     "data": {
      "text/plain": [
       "['__class__',\n",
       " '__class_getitem__',\n",
       " '__contains__',\n",
       " '__delattr__',\n",
       " '__delitem__',\n",
       " '__dir__',\n",
       " '__doc__',\n",
       " '__eq__',\n",
       " '__format__',\n",
       " '__ge__',\n",
       " '__getattribute__',\n",
       " '__getitem__',\n",
       " '__gt__',\n",
       " '__hash__',\n",
       " '__init__',\n",
       " '__init_subclass__',\n",
       " '__ior__',\n",
       " '__iter__',\n",
       " '__le__',\n",
       " '__len__',\n",
       " '__lt__',\n",
       " '__ne__',\n",
       " '__new__',\n",
       " '__or__',\n",
       " '__reduce__',\n",
       " '__reduce_ex__',\n",
       " '__repr__',\n",
       " '__reversed__',\n",
       " '__ror__',\n",
       " '__setattr__',\n",
       " '__setitem__',\n",
       " '__sizeof__',\n",
       " '__str__',\n",
       " '__subclasshook__',\n",
       " 'clear',\n",
       " 'copy',\n",
       " 'fromkeys',\n",
       " 'get',\n",
       " 'items',\n",
       " 'keys',\n",
       " 'pop',\n",
       " 'popitem',\n",
       " 'setdefault',\n",
       " 'update',\n",
       " 'values']"
      ]
     },
     "execution_count": 54,
     "metadata": {},
     "output_type": "execute_result"
    }
   ],
   "source": [
    "dir(user)"
   ]
  },
  {
   "cell_type": "code",
   "execution_count": 55,
   "id": "7a7c3884",
   "metadata": {},
   "outputs": [
    {
     "name": "stdout",
     "output_type": "stream",
     "text": [
      "{}\n"
     ]
    }
   ],
   "source": [
    "user.clear()\n",
    "print(user)"
   ]
  },
  {
   "cell_type": "code",
   "execution_count": 57,
   "id": "03e0ae0a",
   "metadata": {},
   "outputs": [
    {
     "name": "stdout",
     "output_type": "stream",
     "text": [
      "{'name': 'lopa', 'city': 'Bhubaneswar'}\n"
     ]
    }
   ],
   "source": [
    " user = {\n",
    "  \"name\": \"lopa\",\n",
    "  \"city\": \"Bhubaneswar\"\n",
    "}\n",
    "user_copy=user.copy()\n",
    "print(user_copy)"
   ]
  },
  {
   "cell_type": "code",
   "execution_count": 59,
   "id": "f915cdc7",
   "metadata": {},
   "outputs": [
    {
     "name": "stdout",
     "output_type": "stream",
     "text": [
      "{'city': {'Bhubaneswar', 'lopa'}, 'name': {'Bhubaneswar', 'lopa'}}\n"
     ]
    }
   ],
   "source": [
    "user= {\"name\",\"city\"}\n",
    "keys= {\"lopa\",\"Bhubaneswar\"}\n",
    "userkeys = dict.fromkeys(user, keys)\n",
    "print(userkeys)"
   ]
  },
  {
   "cell_type": "code",
   "execution_count": 60,
   "id": "ba1e267f",
   "metadata": {},
   "outputs": [
    {
     "name": "stdout",
     "output_type": "stream",
     "text": [
      "lopa\n"
     ]
    }
   ],
   "source": [
    "user = {\n",
    "  \"name\": \"lopa\",\n",
    "  \"city\": \"Bhubaneswar\"\n",
    "}\n",
    "user_get=user.get(\"name\")\n",
    "print(user_get)"
   ]
  },
  {
   "cell_type": "code",
   "execution_count": 61,
   "id": "229415f4",
   "metadata": {},
   "outputs": [
    {
     "name": "stdout",
     "output_type": "stream",
     "text": [
      "dict_items([('name', 'lopa'), ('city', 'Bhubaneswar')])\n"
     ]
    }
   ],
   "source": [
    "user = {\n",
    "  \"name\": \"lopa\",\n",
    "  \"city\": \"Bhubaneswar\"\n",
    "}\n",
    "user_items=user.items()\n",
    "print(user_items)"
   ]
  },
  {
   "cell_type": "code",
   "execution_count": 64,
   "id": "bc4b0959",
   "metadata": {},
   "outputs": [
    {
     "name": "stdout",
     "output_type": "stream",
     "text": [
      "{'name': 'lopa'}\n"
     ]
    }
   ],
   "source": [
    "user = {\n",
    "  \"name\": \"lopa\",\n",
    "  \"city\": \"Bhubaneswar\"\n",
    "}\n",
    "user_pop=user.pop(\"city\")\n",
    "print(user)"
   ]
  },
  {
   "cell_type": "code",
   "execution_count": 65,
   "id": "692fb61b",
   "metadata": {},
   "outputs": [
    {
     "name": "stdout",
     "output_type": "stream",
     "text": [
      "{'name': 'lopa'}\n"
     ]
    }
   ],
   "source": [
    "user = {\n",
    "  \"name\": \"lopa\",\n",
    "  \"city\": \"Bhubaneswar\"\n",
    "}\n",
    "user_popitem=user.popitem()\n",
    "print(user)"
   ]
  },
  {
   "cell_type": "code",
   "execution_count": 68,
   "id": "f21fad4b",
   "metadata": {},
   "outputs": [
    {
     "name": "stdout",
     "output_type": "stream",
     "text": [
      "Bhubaneswar\n"
     ]
    }
   ],
   "source": [
    "user = {\n",
    "  \"name\": \"lopa\",\n",
    "  \"city\": \"Bhubaneswar\"\n",
    "}\n",
    "user_setdefault=user.setdefault(\"city\",\"Koraput\")\n",
    "print(user_setdefault)"
   ]
  },
  {
   "cell_type": "code",
   "execution_count": 72,
   "id": "4bb0a1da",
   "metadata": {},
   "outputs": [
    {
     "name": "stdout",
     "output_type": "stream",
     "text": [
      "{'name': 'lopa', 'city': 'Bhubaneswar', 'city1': 'Koraput'}\n"
     ]
    }
   ],
   "source": [
    "user = {\n",
    "  \"name\": \"lopa\",\n",
    "  \"city\": \"Bhubaneswar\"\n",
    "}\n",
    "user_update=user.update({\"city1\": \"Koraput\"})\n",
    "print(user)"
   ]
  },
  {
   "cell_type": "code",
   "execution_count": 73,
   "id": "9d78580a",
   "metadata": {},
   "outputs": [
    {
     "name": "stdout",
     "output_type": "stream",
     "text": [
      "dict_values(['lopa', 'Bhubaneswar'])\n"
     ]
    }
   ],
   "source": [
    "user = {\n",
    "  \"name\": \"lopa\",\n",
    "  \"city\": \"Bhubaneswar\"\n",
    "}\n",
    "user_values=user.values()\n",
    "print(user_values)"
   ]
  },
  {
   "cell_type": "code",
   "execution_count": 106,
   "id": "32bc9805",
   "metadata": {},
   "outputs": [
    {
     "name": "stdout",
     "output_type": "stream",
     "text": [
      "2\n"
     ]
    }
   ],
   "source": [
    "x = 0\n",
    "a = 0\n",
    "b = -5\n",
    "if a > 0:\n",
    "    if b < 0: \n",
    "        x = x + 5 \n",
    "    elif a > 5:\n",
    "        x = x + 4\n",
    "    else:\n",
    "        x = x + 3\n",
    "else:\n",
    "    x = x + 2\n",
    "print(x)"
   ]
  },
  {
   "cell_type": "code",
   "execution_count": 108,
   "id": "3dd4f075",
   "metadata": {},
   "outputs": [
    {
     "ename": "IndentationError",
     "evalue": "expected an indented block after 'for' statement on line 6 (1897730005.py, line 8)",
     "output_type": "error",
     "traceback": [
      "\u001b[1;36m  Input \u001b[1;32mIn [108]\u001b[1;36m\u001b[0m\n\u001b[1;33m    print(x, y)\u001b[0m\n\u001b[1;37m    ^\u001b[0m\n\u001b[1;31mIndentationError\u001b[0m\u001b[1;31m:\u001b[0m expected an indented block after 'for' statement on line 6\n"
     ]
    }
   ],
   "source": [
    "numbers = [10, 20]\n",
    "items = [\"Chair\", \"Table\"]\n",
    "\n",
    "for x in numbers:\n",
    "   \n",
    " for y in items:\n",
    "   \n",
    " print(x, y)"
   ]
  },
  {
   "cell_type": "code",
   "execution_count": 109,
   "id": "5c9e0f8e",
   "metadata": {},
   "outputs": [
    {
     "name": "stdout",
     "output_type": "stream",
     "text": [
      "21\n"
     ]
    }
   ],
   "source": [
    "var = 10\n",
    "for i in range(10):\n",
    "    for j in range(2, 10, 1):\n",
    "        if var % 2 == 0:\n",
    "            continue\n",
    "            var += 1\n",
    "    var+=1\n",
    "else:\n",
    "    var+=1\n",
    "print(var)"
   ]
  },
  {
   "cell_type": "code",
   "execution_count": 110,
   "id": "82ece34f",
   "metadata": {},
   "outputs": [
    {
     "ename": "IndentationError",
     "evalue": "expected an indented block after 'for' statement on line 3 (2974859316.py, line 4)",
     "output_type": "error",
     "traceback": [
      "\u001b[1;36m  Input \u001b[1;32mIn [110]\u001b[1;36m\u001b[0m\n\u001b[1;33m    x += 1\u001b[0m\n\u001b[1;37m    ^\u001b[0m\n\u001b[1;31mIndentationError\u001b[0m\u001b[1;31m:\u001b[0m expected an indented block after 'for' statement on line 3\n"
     ]
    }
   ],
   "source": [
    "x = 0\n",
    "for i in range(10):\n",
    "    for j in range(-1, -10, -1):\n",
    "    x += 1\n",
    "    print(x)"
   ]
  },
  {
   "cell_type": "code",
   "execution_count": 111,
   "id": "f1c50603",
   "metadata": {},
   "outputs": [
    {
     "name": "stdout",
     "output_type": "stream",
     "text": [
      "15\n"
     ]
    }
   ],
   "source": [
    "def outer_fun(a, b):\n",
    "    def inner_fun(c, d):\n",
    "        return c + d\n",
    "\n",
    "    return inner_fun(a, b)\n",
    "    return a\n",
    "\n",
    "result = outer_fun(5, 10)\n",
    "print(result)"
   ]
  },
  {
   "cell_type": "code",
   "execution_count": 112,
   "id": "2e3ae022",
   "metadata": {},
   "outputs": [
    {
     "name": "stdout",
     "output_type": "stream",
     "text": [
      "Emma 25\n"
     ]
    }
   ],
   "source": [
    "def fun1(name, age=20):\n",
    "    print(name, age)\n",
    "\n",
    "fun1('Emma', 25)"
   ]
  },
  {
   "cell_type": "code",
   "execution_count": 113,
   "id": "ff4c5b0c",
   "metadata": {},
   "outputs": [
    {
     "name": "stdout",
     "output_type": "stream",
     "text": [
      "emp\n",
      "salary\n"
     ]
    }
   ],
   "source": [
    "def display(**kwargs):\n",
    "    for i in kwargs:\n",
    "        print(i)\n",
    "\n",
    "display(emp=\"Kelly\", salary=9000)"
   ]
  },
  {
   "cell_type": "code",
   "execution_count": 114,
   "id": "94bd69fc",
   "metadata": {},
   "outputs": [
    {
     "name": "stdout",
     "output_type": "stream",
     "text": [
      "15\n"
     ]
    }
   ],
   "source": [
    "def outer_fun(a, b):\n",
    "    def inner_fun(c, d):\n",
    "        return c + d\n",
    "    return inner_fun(a, b)\n",
    "\n",
    "res = outer_fun(5, 10)\n",
    "print(res)"
   ]
  },
  {
   "cell_type": "code",
   "execution_count": 116,
   "id": "0fffc38c",
   "metadata": {},
   "outputs": [
    {
     "ename": "NameError",
     "evalue": "name 'num' is not defined",
     "output_type": "error",
     "traceback": [
      "\u001b[1;31m---------------------------------------------------------------------------\u001b[0m",
      "\u001b[1;31mNameError\u001b[0m                                 Traceback (most recent call last)",
      "Input \u001b[1;32mIn [116]\u001b[0m, in \u001b[0;36m<cell line: 5>\u001b[1;34m()\u001b[0m\n\u001b[0;32m      2\u001b[0m     \u001b[38;5;28;01mreturn\u001b[39;00m num \u001b[38;5;241m+\u001b[39m \u001b[38;5;241m25\u001b[39m\n\u001b[0;32m      4\u001b[0m fun1(\u001b[38;5;241m5\u001b[39m)\n\u001b[1;32m----> 5\u001b[0m \u001b[38;5;28mprint\u001b[39m(\u001b[43mnum\u001b[49m)\n",
      "\u001b[1;31mNameError\u001b[0m: name 'num' is not defined"
     ]
    }
   ],
   "source": [
    "def fun1(num):\n",
    "    return num + 25\n",
    "\n",
    "fun1(5)\n",
    "print(num)"
   ]
  },
  {
   "cell_type": "code",
   "execution_count": null,
   "id": "eed63630",
   "metadata": {},
   "outputs": [],
   "source": []
  }
 ],
 "metadata": {
  "kernelspec": {
   "display_name": "Python 3 (ipykernel)",
   "language": "python",
   "name": "python3"
  },
  "language_info": {
   "codemirror_mode": {
    "name": "ipython",
    "version": 3
   },
   "file_extension": ".py",
   "mimetype": "text/x-python",
   "name": "python",
   "nbconvert_exporter": "python",
   "pygments_lexer": "ipython3",
   "version": "3.10.5"
  }
 },
 "nbformat": 4,
 "nbformat_minor": 5
}
